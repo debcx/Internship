{
 "cells": [
  {
   "cell_type": "markdown",
   "id": "3182a7a3",
   "metadata": {},
   "source": [
    "**Question 1**- Write a Python program to replace all occurrences of a space, comma, or dot with a colon.\n",
    "\n",
    "**Sample Text**- 'Python Exercises, PHP exercises.'\n",
    "\n",
    "**Expected Output**: Python:Exercises::PHP:exercises:\n"
   ]
  },
  {
   "cell_type": "code",
   "execution_count": 1,
   "id": "8829c24a",
   "metadata": {},
   "outputs": [
    {
     "name": "stdout",
     "output_type": "stream",
     "text": [
      "Python:Exercises::PHP:exercises:\n"
     ]
    }
   ],
   "source": [
    "import re\n",
    "target='Python Exercises, PHP exercises.'\n",
    "x=re.sub(r\"[\\s,.]\",\":\",target)\n",
    "print(x)"
   ]
  },
  {
   "cell_type": "markdown",
   "id": "75a45b44",
   "metadata": {},
   "source": [
    "**Question 2**- Create a dataframe using the dictionary below and remove everything (commas (,), !, XXXX, ;, etc.) from the columns except words.\n",
    "\n",
    "**Dictionary**- {'SUMMARY' : ['hello, world!', 'XXXXX test', '123four, five:; six...']}\n",
    "\n",
    "**Expected output**-\n",
    "\n",
    "0 hello world\n",
    "\n",
    "1 test\n",
    "\n",
    "2 four five six"
   ]
  },
  {
   "cell_type": "code",
   "execution_count": 2,
   "id": "4df48de0",
   "metadata": {},
   "outputs": [
    {
     "name": "stdout",
     "output_type": "stream",
     "text": [
      "                  SUMMARY\n",
      "0           hello, world!\n",
      "1              XXXXX test\n",
      "2  123four, five:; six...\n"
     ]
    }
   ],
   "source": [
    "import pandas as pd\n",
    "import re\n",
    "\n",
    "data = {'SUMMARY': ['hello, world!', 'XXXXX test', '123four, five:; six...']}\n",
    "Df = pd.DataFrame(data)\n",
    "print(Df)"
   ]
  },
  {
   "cell_type": "code",
   "execution_count": 3,
   "id": "7ca0ecd5",
   "metadata": {},
   "outputs": [
    {
     "name": "stdout",
     "output_type": "stream",
     "text": [
      "0    hello world\n",
      "1     XXXXX test\n",
      "2  four five six\n"
     ]
    }
   ],
   "source": [
    "Df['SUMMARY'] = [re.sub(r'[^a-zA-Z\\s]', '', i) for i in Df['SUMMARY']]\n",
    "\n",
    "print(Df.to_string(header=None))"
   ]
  },
  {
   "cell_type": "markdown",
   "id": "a229be93",
   "metadata": {},
   "source": [
    "**Question 3**- Create a function in python to find all words that are at least 4 characters long in a string. The use of the re.compile() method is mandatory."
   ]
  },
  {
   "cell_type": "code",
   "execution_count": 4,
   "id": "229bda26",
   "metadata": {},
   "outputs": [
    {
     "name": "stdout",
     "output_type": "stream",
     "text": [
      "['more', 'chaotic', 'than', 'chaos', 'only', 'then', 'will', 'survive']\n"
     ]
    }
   ],
   "source": [
    "import re\n",
    "def fetch_4_or_more_char_words(Target):\n",
    "    pattern=re.compile(r'\\w{4,}+')\n",
    "    x=pattern.finditer(Target)\n",
    "    return [i.group(0) for i in x]\n",
    "Target=\"Be more chaotic than chaos,only then you will survive\"\n",
    "y=fetch_4_or_more_char_words(Target)\n",
    "print(y)"
   ]
  },
  {
   "cell_type": "markdown",
   "id": "e048aca2",
   "metadata": {},
   "source": [
    "**Question 4**- Create a function in python to find all three, four, and five character words in a string. The use of the re.compile() method is mandatory."
   ]
  },
  {
   "cell_type": "code",
   "execution_count": 5,
   "id": "8cacca71",
   "metadata": {},
   "outputs": [
    {
     "name": "stdout",
     "output_type": "stream",
     "text": [
      "['the', 'the', 'earth', 'that', 'there', 'are']\n"
     ]
    }
   ],
   "source": [
    "import re\n",
    "def fetch_3_4_5_char_words(Target):\n",
    "    pattern = re.compile(r'\\b\\w{3,5}\\b')\n",
    "    return re.findall(pattern,Target)\n",
    "Target=\"Somehow the wondrous promise of the earth is that there are things beautiful in it.\"#from CHAOS-james geleick\n",
    "x=fetch_3_4_5_char_words(Target)\n",
    "print(x)"
   ]
  },
  {
   "cell_type": "markdown",
   "id": "95f87384",
   "metadata": {},
   "source": [
    "**Question 5**- Create a function in Python to remove the parenthesis in a list of strings. The use of the re.compile() method is mandatory.\n",
    "\n",
    "**Sample Text**: [\"example (.com)\", \"hr@fliprobo (.com)\", \"github (.com)\", \"Hello (Data Science World)\", \"Data (Scientist)\"]\n",
    "\n",
    "**Expected Output**:\n",
    "\n",
    "example.com\n",
    "\n",
    "hr@fliprobo.com\n",
    "\n",
    "github.com\n",
    "\n",
    "Hello Data Science World\n",
    "\n",
    "Data Scientist\n"
   ]
  },
  {
   "cell_type": "code",
   "execution_count": 6,
   "id": "b7bdbf96",
   "metadata": {},
   "outputs": [
    {
     "name": "stdout",
     "output_type": "stream",
     "text": [
      "example.com\n",
      "hr@fliprobo.com\n",
      "github.com\n",
      "Hello Data Science World\n",
      "Data Scientist\n"
     ]
    }
   ],
   "source": [
    "import re\n",
    "Target = [\"example (.com)\", \"hr@fliprobo (.com)\", \"github (.com)\", \"Hello (Data Science World)\", \"Data (Scientist)\"]\n",
    "x = [re.sub(r'\\s*\\(\\.(.*?)\\)', r'.\\1', i) if '.' in i else re.sub(r'\\((.*?)\\)', r'\\1', i) for i in Target]\n",
    "for j in x:\n",
    "    print(j)"
   ]
  },
  {
   "cell_type": "markdown",
   "id": "92fdc896",
   "metadata": {},
   "source": [
    "**Question 6**- Write a python program to remove the parenthesis area from the text stored in the text file using Regular Expression.\n",
    "\n",
    "**Sample Text**: [\"example (.com)\", \"hr@fliprobo (.com)\", \"github (.com)\", \"Hello (Data Science World)\", \"Data (Scientist)\"]\n",
    "\n",
    "**Expected Output**: [\"example\", \"hr@fliprobo\", \"github\", \"Hello\", \"Data\"]\n",
    "\n",
    "**Note**- Store given sample text in the text file and then to remove the parenthesis area from the text.\n"
   ]
  },
  {
   "cell_type": "code",
   "execution_count": 7,
   "id": "b3066e67",
   "metadata": {},
   "outputs": [
    {
     "name": "stdout",
     "output_type": "stream",
     "text": [
      "Overwriting Q6_sample_text.txt\n"
     ]
    }
   ],
   "source": [
    "%%writefile Q6_sample_text.txt\n",
    "[\"example (.com)\", \"hr@fliprobo (.com)\", \"github (.com)\", \"Hello (Data Science World)\", \"Data (Scientist)\"]"
   ]
  },
  {
   "cell_type": "code",
   "execution_count": 8,
   "id": "5a4f2404",
   "metadata": {},
   "outputs": [
    {
     "name": "stdout",
     "output_type": "stream",
     "text": [
      "[\"example\", \"hr@fliprobo\", \"github\", \"Hello\", \"Data\"]\n"
     ]
    }
   ],
   "source": [
    "import re\n",
    "with open('Q6_sample_text.txt', 'r') as file:\n",
    "    lines = file.readlines()\n",
    "pattern = r'\\s*\\([^)]*\\)'\n",
    "x = [re.sub(pattern, '', i).strip() for i in lines]\n",
    "y = ', '.join(x)\n",
    "print(y)"
   ]
  },
  {
   "cell_type": "markdown",
   "id": "8ad7bafd",
   "metadata": {},
   "source": [
    "**Question 7**- Write a regular expression in Python to split a string into uppercase letters.\n",
    "\n",
    "**Sample text**: “ImportanceOfRegularExpressionsInPython”\n",
    "\n",
    "**Expected Output**: [‘Importance’, ‘Of’, ‘Regular’, ‘Expression’, ‘In’, ‘Python’]\n"
   ]
  },
  {
   "cell_type": "code",
   "execution_count": 9,
   "id": "f8d92022",
   "metadata": {},
   "outputs": [
    {
     "name": "stdout",
     "output_type": "stream",
     "text": [
      "['Importance', 'Of', 'Regular', 'Expressions', 'In', 'Python']\n"
     ]
    }
   ],
   "source": [
    "import re\n",
    "Target = \"ImportanceOfRegularExpressionsInPython\"\n",
    "x = re.findall(r'[A-Z][a-z]*', Target)\n",
    "print(x)"
   ]
  },
  {
   "cell_type": "markdown",
   "id": "fbf3823c",
   "metadata": {},
   "source": [
    "**Question 8**- Create a function in python to insert spaces between words starting with numbers.\n",
    "\n",
    "**Sample Text**: “RegularExpression1IsAn2ImportantTopic3InPython\"\n",
    "\n",
    "**Expected Output**: RegularExpression 1IsAn 2ImportantTopic 3InPython\n"
   ]
  },
  {
   "cell_type": "code",
   "execution_count": 10,
   "id": "cdb3ddc4",
   "metadata": {},
   "outputs": [
    {
     "name": "stdout",
     "output_type": "stream",
     "text": [
      "RegularExpression 1IsAn 2ImportantTopic 3InPython\n"
     ]
    }
   ],
   "source": [
    "import re \n",
    "def insert_space(Target):\n",
    "    return re.sub(r'([a-zA-z])(\\d)',r'\\1 \\2',Target)\n",
    "Target= \"RegularExpression1IsAn2ImportantTopic3InPython\"\n",
    "x = insert_space(Target)\n",
    "print(x)"
   ]
  },
  {
   "cell_type": "markdown",
   "id": "2d23460f",
   "metadata": {},
   "source": [
    "**Question 9**- Create a function in python to insert spaces between words starting with capital letters or with numbers.\n",
    "\n",
    "**Sample Text**: “RegularExpression1IsAn2ImportantTopic3InPython\"\n",
    "\n",
    "**Expected Output**:  RegularExpression 1 IsAn 2 ImportantTopic 3 InPython\n"
   ]
  },
  {
   "cell_type": "code",
   "execution_count": 11,
   "id": "7393bbf2",
   "metadata": {},
   "outputs": [
    {
     "name": "stdout",
     "output_type": "stream",
     "text": [
      "Regular Expression 1 Is An 2 Important Topic 3 In Python\n"
     ]
    }
   ],
   "source": [
    "import re\n",
    "def insert_spaces_between(Target):\n",
    "    pattern = r'(?<=[a-zA-Z0-9])(?=[A-Z])|(?<=[a-z0-9])(?=\\d)'\n",
    "    return re.sub(pattern, ' ', Target)\n",
    "Target = \"RegularExpression1IsAn2ImportantTopic3InPython\"\n",
    "x = insert_spaces_between(Target)\n",
    "print(x)"
   ]
  },
  {
   "cell_type": "markdown",
   "id": "df83a75e",
   "metadata": {},
   "source": [
    "**Question 10**- Use the github link below to read the data and create a dataframe. After creating the dataframe extract the first 6 letters of each country and store in the dataframe under a new column called first_five_letters.\n",
    "\n",
    "**Github Link**-  \n",
    "https://raw.githubusercontent.com/dsrscientist/DSData/master/happiness_score_dataset.csv\n"
   ]
  },
  {
   "cell_type": "code",
   "execution_count": 12,
   "id": "527ba1e7",
   "metadata": {},
   "outputs": [
    {
     "name": "stdout",
     "output_type": "stream",
     "text": [
      "         Country                           Region  Happiness Rank  \\\n",
      "0    Switzerland                   Western Europe               1   \n",
      "1        Iceland                   Western Europe               2   \n",
      "2        Denmark                   Western Europe               3   \n",
      "3         Norway                   Western Europe               4   \n",
      "4         Canada                    North America               5   \n",
      "..           ...                              ...             ...   \n",
      "153       Rwanda               Sub-Saharan Africa             154   \n",
      "154        Benin               Sub-Saharan Africa             155   \n",
      "155        Syria  Middle East and Northern Africa             156   \n",
      "156      Burundi               Sub-Saharan Africa             157   \n",
      "157         Togo               Sub-Saharan Africa             158   \n",
      "\n",
      "     Happiness Score  Standard Error  Economy (GDP per Capita)   Family  \\\n",
      "0              7.587         0.03411                   1.39651  1.34951   \n",
      "1              7.561         0.04884                   1.30232  1.40223   \n",
      "2              7.527         0.03328                   1.32548  1.36058   \n",
      "3              7.522         0.03880                   1.45900  1.33095   \n",
      "4              7.427         0.03553                   1.32629  1.32261   \n",
      "..               ...             ...                       ...      ...   \n",
      "153            3.465         0.03464                   0.22208  0.77370   \n",
      "154            3.340         0.03656                   0.28665  0.35386   \n",
      "155            3.006         0.05015                   0.66320  0.47489   \n",
      "156            2.905         0.08658                   0.01530  0.41587   \n",
      "157            2.839         0.06727                   0.20868  0.13995   \n",
      "\n",
      "     Health (Life Expectancy)  Freedom  Trust (Government Corruption)  \\\n",
      "0                     0.94143  0.66557                        0.41978   \n",
      "1                     0.94784  0.62877                        0.14145   \n",
      "2                     0.87464  0.64938                        0.48357   \n",
      "3                     0.88521  0.66973                        0.36503   \n",
      "4                     0.90563  0.63297                        0.32957   \n",
      "..                        ...      ...                            ...   \n",
      "153                   0.42864  0.59201                        0.55191   \n",
      "154                   0.31910  0.48450                        0.08010   \n",
      "155                   0.72193  0.15684                        0.18906   \n",
      "156                   0.22396  0.11850                        0.10062   \n",
      "157                   0.28443  0.36453                        0.10731   \n",
      "\n",
      "     Generosity  Dystopia Residual first_five_letters  \n",
      "0       0.29678            2.51738             Switze  \n",
      "1       0.43630            2.70201             Icelan  \n",
      "2       0.34139            2.49204             Denmar  \n",
      "3       0.34699            2.46531             Norway  \n",
      "4       0.45811            2.45176             Canada  \n",
      "..          ...                ...                ...  \n",
      "153     0.22628            0.67042             Rwanda  \n",
      "154     0.18260            1.63328              Benin  \n",
      "155     0.47179            0.32858              Syria  \n",
      "156     0.19727            1.83302             Burund  \n",
      "157     0.16681            1.56726               Togo  \n",
      "\n",
      "[158 rows x 13 columns]\n"
     ]
    }
   ],
   "source": [
    "import pandas as pd\n",
    "link = 'https://raw.githubusercontent.com/dsrscientist/DSData/master/happiness_score_dataset.csv'\n",
    "Df = pd.read_csv(link)\n",
    "Df['first_five_letters'] = Df['Country'].str[:6]\n",
    "print(Df)"
   ]
  },
  {
   "cell_type": "markdown",
   "id": "08644031",
   "metadata": {},
   "source": [
    "**Question 11**- Write a Python program to match a string that contains only upper and lowercase letters, numbers, and underscores."
   ]
  },
  {
   "cell_type": "code",
   "execution_count": 14,
   "id": "0638919b",
   "metadata": {},
   "outputs": [
    {
     "name": "stdout",
     "output_type": "stream",
     "text": [
      "String matched by the pattern\n",
      "String is not matched by the pattern\n"
     ]
    }
   ],
   "source": [
    "import re\n",
    "pattern= r'^\\w+$'\n",
    "Target1 = \"DebCX_1729\"\n",
    "Target2 = \"DebCX_1729@\"\n",
    "x= re.match(pattern, Target1)\n",
    "y = re.match(pattern, Target2)\n",
    "c=[x,y]\n",
    "for i in c:\n",
    "    if bool(i)==True:\n",
    "        print ('String matched by the pattern')\n",
    "    else:\n",
    "        print('String is not matched by the pattern')"
   ]
  },
  {
   "cell_type": "markdown",
   "id": "abbdb665",
   "metadata": {},
   "source": [
    "**Question 12**- Write a Python program where a string will start with a specific number. "
   ]
  },
  {
   "cell_type": "code",
   "execution_count": 16,
   "id": "37e38c18",
   "metadata": {},
   "outputs": [
    {
     "name": "stdout",
     "output_type": "stream",
     "text": [
      "<re.Match object; span=(0, 5), match='1729 '>\n",
      "String starts with specific number\n"
     ]
    }
   ],
   "source": [
    "import re\n",
    "Target=\"1729 is Hardy Ramanujan number. \"\n",
    "num=1729\n",
    "pattern=\"^\" + str(num) + r\"\\D\"\n",
    "x=re.match(pattern,Target)\n",
    "print(x)\n",
    "if bool(x)==True:\n",
    "    print(\"String starts with specific number\")"
   ]
  },
  {
   "cell_type": "markdown",
   "id": "d2e752a5",
   "metadata": {},
   "source": [
    "**Question 13**- Write a Python program to remove leading zeros from an IP address"
   ]
  },
  {
   "cell_type": "code",
   "execution_count": 17,
   "id": "3658e401",
   "metadata": {},
   "outputs": [
    {
     "name": "stdout",
     "output_type": "stream",
     "text": [
      "7.0.42.6\n"
     ]
    }
   ],
   "source": [
    "import re\n",
    "ip_address=\"007.000.042.006\"\n",
    "x=re.sub(r'\\b0+(\\d)',r'\\1', ip_address)\n",
    "print(x)"
   ]
  },
  {
   "cell_type": "markdown",
   "id": "c6d21de2",
   "metadata": {},
   "source": [
    "**Question 14**- Write a regular expression in python to match a date string in the form of Month name followed by day number and year stored in a text file.\n",
    "\n",
    "**Sample text** :  ' On August 15th 1947 that India was declared independent from British colonialism, and the reins of control were handed over to the leaders of the Country’.\n",
    "\n",
    "**Expected Output**- August 15th 1947\n",
    "\n",
    "**Note**- Store given sample text in the text file and then extract the date string asked format.\n"
   ]
  },
  {
   "cell_type": "code",
   "execution_count": 18,
   "id": "b56866a7",
   "metadata": {},
   "outputs": [
    {
     "name": "stdout",
     "output_type": "stream",
     "text": [
      "Overwriting Q14_sample_text.txt\n"
     ]
    }
   ],
   "source": [
    "%%writefile Q14_sample_text.txt\n",
    " ' On August 15th 1947 that India was declared independent from British colonialism, and the reins of control were handed over to the leaders of the Country’."
   ]
  },
  {
   "cell_type": "code",
   "execution_count": 19,
   "id": "fd2e9ce4",
   "metadata": {},
   "outputs": [
    {
     "name": "stdout",
     "output_type": "stream",
     "text": [
      "August 15th 1947\n"
     ]
    }
   ],
   "source": [
    "import re\n",
    "with open('Q14_sample_text.txt', 'r') as file:\n",
    "    Target = file.read()\n",
    "pattern = r'\\b(?:Jan(?:uary)?|Feb(?:ruary)?|Mar(?:ch)?|Apr(?:il)?|May|Jun(?:e)?|Jul(?:y)?|Aug(?:ust)?|Sep(?:tember)?|Oct(?:ober)?|Nov(?:ember)?|Dec(?:ember)?) \\d{1,2}(?:st|nd|rd|th)? \\d{4}'\n",
    "x = re.finditer(pattern, Target)\n",
    "for i in x:\n",
    "    print(i.group(0))"
   ]
  },
  {
   "cell_type": "markdown",
   "id": "4a5f3a41",
   "metadata": {},
   "source": [
    "**Question 15**- Write a Python program to search some literals strings in a string. \n",
    "\n",
    "**Sample text** : 'The quick brown fox jumps over the lazy dog.'\n",
    "\n",
    "**Searched words** : 'fox', 'dog', 'horse'\n"
   ]
  },
  {
   "cell_type": "code",
   "execution_count": 20,
   "id": "a97d6e29",
   "metadata": {},
   "outputs": [
    {
     "name": "stdout",
     "output_type": "stream",
     "text": [
      "fox is in Target\n",
      "dog is in Target\n",
      "horse is not in Target\n"
     ]
    }
   ],
   "source": [
    "import re\n",
    "Target = 'The quick brown fox jumps over the lazy dog.'\n",
    "searched_words = ['fox', 'dog', 'horse']\n",
    "for i in searched_words:\n",
    "    x = re.findall(i,Target)\n",
    "    if x:\n",
    "        print(f\"{i} is in Target\")\n",
    "    else:\n",
    "        print(f\"{i} is not in Target\")\n"
   ]
  },
  {
   "cell_type": "markdown",
   "id": "24e748cb",
   "metadata": {},
   "source": [
    "**Question 16**- Write a Python program to search a literals string in a string and also find the location within the original string where the pattern occurs\n",
    "\n",
    "**Sample text** : 'The quick brown fox jumps over the lazy dog.'\n",
    "\n",
    "**Searched words** : 'fox'\n"
   ]
  },
  {
   "cell_type": "code",
   "execution_count": 21,
   "id": "d6e44fb4",
   "metadata": {},
   "outputs": [
    {
     "name": "stdout",
     "output_type": "stream",
     "text": [
      "'fox' is matched and between the index 16-19.\n"
     ]
    }
   ],
   "source": [
    "import re\n",
    "Target = 'The quick brown fox jumps over the lazy dog.'\n",
    "search_word = ['fox']\n",
    "for i in search_word:\n",
    "    x = re.finditer(i, Target)\n",
    "    for match in x:\n",
    "        start = match.start()\n",
    "        end = match.end()\n",
    "        print(f\"'{i}' is matched and between the index {start}-{end}.\")"
   ]
  },
  {
   "cell_type": "markdown",
   "id": "48ecfc98",
   "metadata": {},
   "source": [
    "**Question 17**- Write a Python program to find the substrings within a string.\n",
    "\n",
    "**Sample text** : 'Python exercises, PHP exercises, C# exercises'\n",
    "\n",
    "**Pattern** : 'exercises'\n"
   ]
  },
  {
   "cell_type": "code",
   "execution_count": 22,
   "id": "f5507539",
   "metadata": {},
   "outputs": [
    {
     "name": "stdout",
     "output_type": "stream",
     "text": [
      "The substring is 'exercises' \n",
      "The substring is 'exercises' \n",
      "The substring is 'exercises' \n"
     ]
    }
   ],
   "source": [
    "import re\n",
    "Target = 'Python exercises, PHP exercises, C# exercises'\n",
    "pattern = 'exercises'\n",
    "x = re.compile(pattern)\n",
    "for i in x.finditer(Target):\n",
    "    start, end = i.span()\n",
    "    print(f\"The substring is '{Target[start:end]}' \")"
   ]
  },
  {
   "cell_type": "markdown",
   "id": "c4b87b1b",
   "metadata": {},
   "source": [
    "**Question 18**- Write a Python program to find the occurrence and position of the substrings within a string."
   ]
  },
  {
   "cell_type": "code",
   "execution_count": 23,
   "id": "9dc71741",
   "metadata": {},
   "outputs": [
    {
     "name": "stdout",
     "output_type": "stream",
     "text": [
      "Occurance 1 :'exercises' is found at position 7-16.\n",
      "Occurance 2 :'exercises' is found at position 22-31.\n",
      "Occurance 3 :'exercises' is found at position 36-45.\n"
     ]
    }
   ],
   "source": [
    "import re\n",
    "def find_occurrences_and_positions(Target, pattern):\n",
    "    occurrences = []\n",
    "    for match in re.finditer(re.escape(pattern), Target):\n",
    "        start = re.match(re.escape(pattern), Target[match.start():]).start() + match.start()\n",
    "        end = re.match(re.escape(pattern), Target[match.start():]).end() + match.start()\n",
    "        occurrences.append((start, end))\n",
    "    return occurrences\n",
    "Target = 'Python exercises, PHP exercises, C# exercises'\n",
    "pattern = 'exercises'\n",
    "x = find_occurrences_and_positions(Target, pattern)\n",
    "for i,(start, end) in enumerate(x,1) :\n",
    "    print(f\"Occurance {i} :'{pattern}' is found at position {start}-{end}.\")"
   ]
  },
  {
   "cell_type": "markdown",
   "id": "b1fbd108",
   "metadata": {},
   "source": [
    "**Question 19**- Write a Python program to convert a date of yyyy-mm-dd format to dd-mm-yyyy format."
   ]
  },
  {
   "cell_type": "code",
   "execution_count": 24,
   "id": "77883b6d",
   "metadata": {},
   "outputs": [
    {
     "name": "stdout",
     "output_type": "stream",
     "text": [
      "The reversed date of 2023-11-03 is 03-11-2023\n"
     ]
    }
   ],
   "source": [
    "import re\n",
    "date = '2023-11-03'\n",
    "pattern = r'(\\d{4})-(\\d{1,2})-(\\d{1,2})' \n",
    "x = re.sub(pattern, r'\\3-\\2-\\1', date)\n",
    "print(f\"The reversed date of {date} is {x}\")"
   ]
  },
  {
   "cell_type": "markdown",
   "id": "f830ec67",
   "metadata": {},
   "source": [
    "**Question 20**- Create a function in python to find all decimal numbers with a precision of 1 or 2 in a string. The use of the re.compile() method is mandatory.\n",
    "\n",
    "**Sample Text**: \"01.12 0132.123 2.31875 145.8 3.01 27.25 0.25\"\n",
    "\n",
    "**Expected Output**: ['01.12', '145.8', '3.01', '27.25', '0.25']\n"
   ]
  },
  {
   "cell_type": "code",
   "execution_count": 25,
   "id": "b04794fa",
   "metadata": {},
   "outputs": [
    {
     "name": "stdout",
     "output_type": "stream",
     "text": [
      "['01.12', '145.8', '3.01', '27.25', '0.25']\n"
     ]
    }
   ],
   "source": [
    "import re\n",
    "def fetch_decimal_numbers_with_precision(str_num):\n",
    "    pattern = r'\\b\\d+\\.\\d{1,2}\\b' \n",
    "    return re.findall(pattern, str_num)\n",
    "Target = \"01.12 0132.123 2.31875 145.8 3.01 27.25 0.25\"\n",
    "x = fetch_decimal_numbers_with_precision(Target)\n",
    "print(x)"
   ]
  },
  {
   "cell_type": "markdown",
   "id": "804e4992",
   "metadata": {},
   "source": [
    "**Question 21**- Write a Python program to separate and print the numbers and their position of a given string."
   ]
  },
  {
   "cell_type": "code",
   "execution_count": 26,
   "id": "e2b56030",
   "metadata": {},
   "outputs": [
    {
     "name": "stdout",
     "output_type": "stream",
     "text": [
      "Number: 123, is in the  position between: 44-47\n"
     ]
    }
   ],
   "source": [
    "import re\n",
    "Target = \"The quick brown fox jumps over the lazy dog 123 times.\"\n",
    "x = re.finditer(r'\\d+', Target)\n",
    "for i in x:\n",
    "    print(f\"Number: {i.group()}, is in the  position between: {i.start()}-{i.end()}\")"
   ]
  },
  {
   "cell_type": "markdown",
   "id": "19e39906",
   "metadata": {},
   "source": [
    "**Question 22**- Write a regular expression in python program to extract maximum/largest numeric value from a string.\n",
    "\n",
    "**Sample Text**:  'My marks in each semester are: 947, 896, 926, 524, 734, 950, 642'\n",
    "\n",
    "**Expected Output**: 950\n"
   ]
  },
  {
   "cell_type": "code",
   "execution_count": 27,
   "id": "033ba337",
   "metadata": {},
   "outputs": [
    {
     "name": "stdout",
     "output_type": "stream",
     "text": [
      "950\n"
     ]
    }
   ],
   "source": [
    "import re\n",
    "Target = 'My marks in each semester are: 947, 896, 926, 524, 734, 950, 642'\n",
    "x = re.findall(r'\\d+',Target)\n",
    "y = [int(i) for i in x]\n",
    "maximum= max(y)\n",
    "print(maximum)"
   ]
  },
  {
   "cell_type": "markdown",
   "id": "c6e3b0c8",
   "metadata": {},
   "source": [
    "**Question 23**- Create a function in python to insert spaces between words starting with capital letters.\n",
    "\n",
    "**Sample Text**: “RegularExpressionIsAnImportantTopicInPython\"\n",
    "\n",
    "**Expected Output**: Regular Expression Is An Important Topic In Python\n"
   ]
  },
  {
   "cell_type": "code",
   "execution_count": 28,
   "id": "dde88a3a",
   "metadata": {},
   "outputs": [
    {
     "name": "stdout",
     "output_type": "stream",
     "text": [
      "Regular Expression Is An Important Topic In Python\n"
     ]
    }
   ],
   "source": [
    "import re\n",
    "def insert_space(Target):\n",
    "    char = re.findall(r'[A-Z][a-z]*', Target)\n",
    "    x = re.split(r'[A-Z][a-z]*',Target)\n",
    "    y = ' '.join([a + b for a, b in zip(x,char)])\n",
    "    return y\n",
    "Target = \"RegularExpressionIsAnImportantTopicInPython\"\n",
    "z = insert_space(Target)\n",
    "print(z)"
   ]
  },
  {
   "cell_type": "markdown",
   "id": "4300f53d",
   "metadata": {},
   "source": [
    "**Question 24**- Python regex to find sequences of one upper case letter followed by lower case letters"
   ]
  },
  {
   "cell_type": "code",
   "execution_count": 30,
   "id": "bf9f771d",
   "metadata": {},
   "outputs": [
    {
     "name": "stdout",
     "output_type": "stream",
     "text": [
      "['Adversity', 'Always', 'Introspection']\n"
     ]
    }
   ],
   "source": [
    "import re\n",
    "Target = \"Adversity Always presents opportunity for Introspection\" #~~\"APJ Abdul Kalam\" \n",
    "pattern = r'[A-Z][a-z]+'\n",
    "result = re.findall(pattern, Target)\n",
    "print(result)"
   ]
  },
  {
   "cell_type": "markdown",
   "id": "dd51b5ad",
   "metadata": {},
   "source": [
    "**Question 25**- Write a Python program to remove continuous duplicate words from Sentence using Regular Expression.\n",
    "\n",
    "**Sample Text**: \"Hello hello world world\"\n",
    "\n",
    "**Expected Output**: Hello hello world\n"
   ]
  },
  {
   "cell_type": "code",
   "execution_count": 31,
   "id": "79b114f4",
   "metadata": {},
   "outputs": [
    {
     "name": "stdout",
     "output_type": "stream",
     "text": [
      "Hello hello world\n"
     ]
    }
   ],
   "source": [
    "import re\n",
    "Target = \"Hello hello world world\"\n",
    "duplicates = [j for j, _ in re.findall(r'\\b(\\w+)( \\1\\b)+', Target)]\n",
    "for i in duplicates:\n",
    "    x = Target.replace(f\"{i} {i}\",i)\n",
    "print(x)"
   ]
  },
  {
   "cell_type": "markdown",
   "id": "e094e24d",
   "metadata": {},
   "source": [
    "**Question 26**-  Write a python program using RegEx to accept string ending with alphanumeric character."
   ]
  },
  {
   "cell_type": "code",
   "execution_count": 32,
   "id": "014055f3",
   "metadata": {},
   "outputs": [
    {
     "name": "stdout",
     "output_type": "stream",
     "text": [
      "That string have alphanumeric character at the end.\n"
     ]
    }
   ],
   "source": [
    "import re\n",
    "Target= \"Hello123\"\n",
    "pattern = r'\\w+$'\n",
    "x=re.match(pattern,Target)\n",
    "if bool(x)==True:\n",
    "    print('That string have alphanumeric character at the end.')"
   ]
  },
  {
   "cell_type": "markdown",
   "id": "a23e1aed",
   "metadata": {},
   "source": [
    "**Question 27**-Write a python program using RegEx to extract the hashtags.\n",
    "\n",
    "**Sample Text**:  \"\"\"RT @kapil_kausik: #Doltiwal I mean #xyzabc is \"hurt\" by #Demonetization as the same has rendered USELESS <ed><U+00A0><U+00BD><ed><U+00B1><U+0089> \"acquired funds\" No wo\"\"\"\n",
    "    \n",
    "    \n",
    "**Expected Output**: ['#Doltiwal', '#xyzabc', '#Demonetization']\n"
   ]
  },
  {
   "cell_type": "code",
   "execution_count": 34,
   "id": "65286b02",
   "metadata": {},
   "outputs": [
    {
     "name": "stdout",
     "output_type": "stream",
     "text": [
      "['#Doltiwal', '#xyzabc', '#Demonetization']\n"
     ]
    }
   ],
   "source": [
    "import re\n",
    "Target = \"\"\"RT @kapil_kausik: #Doltiwal I mean #xyzabc is \"hurt\" by #Demonetization as the same has rendered USELESS <ed><U+00A0><U+00BD><ed><U+00B1><U+0089> \"acquired funds\" No wo\"\"\"\n",
    "pattern = r'#\\w+'\n",
    "x = re.findall(pattern, Target)\n",
    "print(x)"
   ]
  },
  {
   "cell_type": "markdown",
   "id": "d6d3af34",
   "metadata": {},
   "source": [
    "**Question 28**- Write a python program using RegEx to remove <U+..> like symbols\n",
    "Check the below sample text, there are strange symbols something of the sort <U+..> all over the place. You need to come up with a general Regex expression that will cover all such symbols.\n",
    "\n",
    "**Sample Text**: \"\"\"RT @kapil_kausik: #Doltiwal I mean #xyzabc is \"hurt\" by #Demonetization as the same has rendered USELESS <ed><U+00A0><U+00BD><ed><U+00B1><U+0089> \"acquired funds\" No wo\"\"\"\n",
    "    \n",
    "**Expected Output**: @Jags123456 Bharat band on 28??<ed><ed>Those who  are protesting #demonetization  are all different party leaders\n"
   ]
  },
  {
   "cell_type": "code",
   "execution_count": 35,
   "id": "939f3de0",
   "metadata": {},
   "outputs": [
    {
     "name": "stdout",
     "output_type": "stream",
     "text": [
      "@Jags123456 Bharat band on 28??<ed><ed>Those who  are protesting #demonetization  are all different party leaders\n"
     ]
    }
   ],
   "source": [
    "import re\n",
    "Target = \"@Jags123456 Bharat band on 28??<ed><U+00A0><U+00BD><ed><U+00B8><U+0082>Those who  are protesting #demonetization  are all different party leaders\"\n",
    "pattern = r'<U\\+[A-Za-z0-9]{4}>'\n",
    "x = re.sub(pattern,'',Target)\n",
    "print(x)"
   ]
  },
  {
   "cell_type": "markdown",
   "id": "4a176ea4",
   "metadata": {},
   "source": [
    "**Question 29**- Write a python program to extract dates from the text stored in the text file.\n",
    "\n",
    "**Sample Text**: Ron was born on 12-09-1992 and he was admitted to school 15-12-1999.\n",
    "\n",
    "**Note**- Store this sample text in the file and then extract dates\n"
   ]
  },
  {
   "cell_type": "code",
   "execution_count": 36,
   "id": "c04d9983",
   "metadata": {},
   "outputs": [
    {
     "name": "stdout",
     "output_type": "stream",
     "text": [
      "Overwriting Q29_sample_data.txt\n"
     ]
    }
   ],
   "source": [
    "%%writefile Q29_sample_data.txt\n",
    "Ron was born on 12-09-1992 and he was admitted to school 15-12-1999."
   ]
  },
  {
   "cell_type": "code",
   "execution_count": 37,
   "id": "5b05fb69",
   "metadata": {},
   "outputs": [
    {
     "name": "stdout",
     "output_type": "stream",
     "text": [
      "['12-09-1992', '15-12-1999']\n"
     ]
    }
   ],
   "source": [
    "import re\n",
    "with open('Q29_sample_data.txt', 'r') as file:\n",
    "    text = file.read()\n",
    "pattern = r'\\b\\d{2}-\\d{2}-\\d{4}\\b'\n",
    "x = re.findall(pattern, text)\n",
    "print(x)"
   ]
  },
  {
   "cell_type": "markdown",
   "id": "fc37d289",
   "metadata": {},
   "source": [
    "**Question 30**- Create a function in python to remove all words from a string of length between 2 and 4.\n",
    "The use of the re.compile() method is mandatory.\n",
    "\n",
    "**Sample Text**: \"The following example creates an ArrayList with a capacity of 50 elements. 4 elements are then added to the ArrayList and the ArrayList is trimmed accordingly.\"\n",
    "\n",
    "**Expected Output**:  following example creates ArrayList a capacity elements. 4 elements added ArrayList ArrayList trimmed accordingly.\n"
   ]
  },
  {
   "cell_type": "code",
   "execution_count": 38,
   "id": "a2146a5e",
   "metadata": {},
   "outputs": [
    {
     "name": "stdout",
     "output_type": "stream",
     "text": [
      " following example creates  ArrayList  a capacity   elements. 4 elements   added   ArrayList   ArrayList  trimmed accordingly.\n"
     ]
    }
   ],
   "source": [
    "import re\n",
    "Target= \"The following example creates an ArrayList with a capacity of 50 elements. 4 elements are then added to the ArrayList and the ArrayList is trimmed accordingly.\"\n",
    "pattern = re.compile(r'\\b\\w{2,4}\\b')\n",
    "x=re.sub(pattern, '', Target)\n",
    "print(x)"
   ]
  }
 ],
 "metadata": {
  "kernelspec": {
   "display_name": "Python 3 (ipykernel)",
   "language": "python",
   "name": "python3"
  },
  "language_info": {
   "codemirror_mode": {
    "name": "ipython",
    "version": 3
   },
   "file_extension": ".py",
   "mimetype": "text/x-python",
   "name": "python",
   "nbconvert_exporter": "python",
   "pygments_lexer": "ipython3",
   "version": "3.11.5"
  }
 },
 "nbformat": 4,
 "nbformat_minor": 5
}
