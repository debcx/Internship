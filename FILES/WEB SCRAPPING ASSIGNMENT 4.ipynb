{
 "cells": [
  {
   "cell_type": "markdown",
   "id": "b6c1cdb2",
   "metadata": {},
   "source": [
    "### Q-1"
   ]
  },
  {
   "cell_type": "code",
   "execution_count": null,
   "id": "e385b8ee",
   "metadata": {},
   "outputs": [],
   "source": [
    "from selenium import webdriver\n",
    "from selenium.webdriver.common.by import By\n",
    "import pandas as pd\n",
    "\n",
    "driver = webdriver.Chrome()\n",
    "driver.get(\"https://www.theguardian.com/news/datablog/2012/aug/09/best-selling-books-all-time-fifty-shades-grey-compare\")\n",
    "\n",
    "book_data={ \"Book name\" : [],\"Author name\" : [],\"Volumes sold\" : [],\"Publisher\" : [],\"Genre\":[] }\n",
    "\n",
    "b=driver.find_element(By.XPATH,\"/html/body/div/div[2]/div[2]/div/div[2]/div/table/tbody/tr[1]/td[2]\")\n",
    "a=driver.find_element(By.XPATH,\"/html/body/div/div[2]/div[2]/div/div[2]/div/table/tbody/tr[1]/td[3]\")\n",
    "v=driver.find_element(By.XPATH,\"/html/body/div/div[2]/div[2]/div/div[2]/div/table/tbody/tr[1]/td[4]\")\n",
    "p=driver.find_element(By.XPATH,\"/html/body/div/div[2]/div[2]/div/div[2]/div/table/tbody/tr[1]/td[5]\")\n",
    "g=driver.find_element(By.XPATH,\"/html/body/div/div[2]/div[2]/div/div[2]/div/table/tbody/tr[1]/td[6]\")\n",
    "\n",
    "book_data[\"Book name\"].append(b.text)\n",
    "book_data[\"Author name\"].append(a.text)\n",
    "book_data[\"Volumes sold\"].append(v.text)\n",
    "book_data[\"Publisher\"].append(p.text)\n",
    "book_data[\"Genre\"].append(g.text)\n",
    "\n",
    "df_book=pd.DataFrame(book_data)\n",
    "print(df_book)"
   ]
  },
  {
   "cell_type": "markdown",
   "id": "3c013cc7",
   "metadata": {},
   "source": [
    "### Q2"
   ]
  },
  {
   "cell_type": "code",
   "execution_count": null,
   "id": "eef1d998",
   "metadata": {},
   "outputs": [],
   "source": [
    "from selenium import webdriver\n",
    "from selenium.webdriver.common.by import By\n",
    "from selenium.common.exceptions import NoSuchElementException\n",
    "import pandas as pd\n",
    "\n",
    "driver = webdriver.Chrome()\n",
    "driver.get('https://www.bcci.tv/')\n",
    "\n",
    "try:\n",
    "    fix = driver.find_element(By.XPATH, \"/html/body/header/div[3]/div[2]/ul/div[1]/a[2]\")\n",
    "    fix.click()\n",
    "\n",
    "    Series = []\n",
    "    Place = []\n",
    "    Date = []\n",
    "    Time = []\n",
    "\n",
    "    driver.implicitly_wait(10)\n",
    "\n",
    "    elements1 = driver.find_elements(By.CLASS_NAME, \"match-tournament-name ng-binding\")\n",
    "    for i in elements1:\n",
    "        try:\n",
    "            series = i.text\n",
    "            Series.append(series)\n",
    "        except NoSuchElementException:\n",
    "            print(\"Series element not found. Skipping.\")\n",
    "\n",
    "    elements2 = driver.find_elements(By.CLASS_NAME, \"ng-binding ng-scope\")\n",
    "    for i in elements2:\n",
    "        try:\n",
    "            place = i.text\n",
    "            Place.append(place)\n",
    "        except NoSuchElementException:\n",
    "            print(\"Place element not found. Skipping.\")\n",
    "\n",
    "    elements3 = driver.find_elements(By.CLASS_NAME, \"match-dates ng-binding\")\n",
    "    for i in elements3:\n",
    "        try:\n",
    "            date = i.text\n",
    "            Date.append(date)\n",
    "        except NoSuchElementException:\n",
    "            print(\"Date element not found. Skipping.\")\n",
    "\n",
    "    elements4 = driver.find_elements(By.CLASS_NAME, \"match-time no-margin ng-binding\")\n",
    "    for i in elements4:\n",
    "        try:\n",
    "            time = i.text\n",
    "            Time.append(time)\n",
    "        except NoSuchElementException:\n",
    "            print(\"Time element not found. Skipping.\")\n",
    "\n",
    "    data = {\n",
    "        'Series': Series,\n",
    "        'Place': Place,\n",
    "        'Date': Date,\n",
    "        'Time': Time\n",
    "    }\n",
    "\n",
    "    df = pd.DataFrame(data)\n",
    "\n",
    "    print(df)\n",
    "\n",
    "except NoSuchElementException as e:\n",
    "    print(f\"Element not found: {e}\")\n",
    "\n",
    "finally:\n",
    "    driver.quit()\n"
   ]
  },
  {
   "cell_type": "markdown",
   "id": "bb698f67",
   "metadata": {},
   "source": [
    "### Q4"
   ]
  },
  {
   "cell_type": "markdown",
   "id": "a09e3a7c",
   "metadata": {},
   "source": [
    "### Q6"
   ]
  },
  {
   "cell_type": "code",
   "execution_count": null,
   "id": "131debfd",
   "metadata": {},
   "outputs": [],
   "source": [
    "from selenium import webdriver\n",
    "from selenium.webdriver.common.by import By\n",
    "import pandas as pd\n",
    "\n",
    "driver = webdriver.Chrome()\n",
    "driver.get(\"https://www.theguardian.com/news/datablog/2012/aug/09/best-selling-books-all-time-fifty-shades-grey-compare\")\n",
    "\n",
    "book_data={ \"Book name\" : [],\"Author name\" : [],\"Volumes sold\" : [],\"Publisher\" : [],\"Genre\":[] }\n",
    "\n",
    "b=driver.find_element(By.XPATH,\"/html/body/div/div[2]/div[2]/div/div[2]/div/table/tbody/tr[1]/td[2]\")\n",
    "a=driver.find_element(By.XPATH,\"/html/body/div/div[2]/div[2]/div/div[2]/div/table/tbody/tr[1]/td[3]\")\n",
    "v=driver.find_element(By.XPATH,\"/html/body/div/div[2]/div[2]/div/div[2]/div/table/tbody/tr[1]/td[4]\")\n",
    "p=driver.find_element(By.XPATH,\"/html/body/div/div[2]/div[2]/div/div[2]/div/table/tbody/tr[1]/td[5]\")\n",
    "g=driver.find_element(By.XPATH,\"/html/body/div/div[2]/div[2]/div/div[2]/div/table/tbody/tr[1]/td[6]\")\n",
    "\n",
    "book_data[\"Book name\"].append(b.text)\n",
    "book_data[\"Author name\"].append(a.text)\n",
    "book_data[\"Volumes sold\"].append(v.text)\n",
    "book_data[\"Publisher\"].append(p.text)\n",
    "book_data[\"Genre\"].append(g.text)\n",
    "\n",
    "df_book=pd.DataFrame(book_data)\n",
    "print(df_book)"
   ]
  },
  {
   "cell_type": "markdown",
   "id": "7da4aec6",
   "metadata": {},
   "source": [
    "### Q7"
   ]
  },
  {
   "cell_type": "markdown",
   "id": "ca449c78",
   "metadata": {},
   "source": [
    "it gives - **\"404\n",
    "ERROR Lord! It's a miracle! Webpage up and vanished like a fart in the wind!\n",
    "Warden Norton, The Shawshank Redemption (1994)\"**"
   ]
  },
  {
   "cell_type": "code",
   "execution_count": null,
   "id": "6eac15bf",
   "metadata": {},
   "outputs": [],
   "source": []
  }
 ],
 "metadata": {
  "kernelspec": {
   "display_name": "Python 3 (ipykernel)",
   "language": "python",
   "name": "python3"
  },
  "language_info": {
   "codemirror_mode": {
    "name": "ipython",
    "version": 3
   },
   "file_extension": ".py",
   "mimetype": "text/x-python",
   "name": "python",
   "nbconvert_exporter": "python",
   "pygments_lexer": "ipython3",
   "version": "3.11.5"
  }
 },
 "nbformat": 4,
 "nbformat_minor": 5
}
